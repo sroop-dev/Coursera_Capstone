{
  "nbformat": 4,
  "nbformat_minor": 0,
  "metadata": {
    "colab": {
      "name": "capstone_notebook.ipynb",
      "provenance": [],
      "authorship_tag": "ABX9TyP4tX16tHSl5mB/LhJiG5MM",
      "include_colab_link": true
    },
    "kernelspec": {
      "name": "python3",
      "display_name": "Python 3"
    }
  },
  "cells": [
    {
      "cell_type": "markdown",
      "metadata": {
        "id": "view-in-github",
        "colab_type": "text"
      },
      "source": [
        "<a href=\"https://colab.research.google.com/github/sroop-dev/Coursera_Capstone/blob/main/capstone_notebook.ipynb\" target=\"_parent\"><img src=\"https://colab.research.google.com/assets/colab-badge.svg\" alt=\"Open In Colab\"/></a>"
      ]
    },
    {
      "cell_type": "markdown",
      "metadata": {
        "id": "oI6IvZn0bhXQ"
      },
      "source": [
        "This is mainly used for the capstone project. First commit to the git repository."
      ]
    },
    {
      "cell_type": "code",
      "metadata": {
        "id": "EXTBnzWdbbsQ"
      },
      "source": [
        "import pandas as pd\r\n",
        "import numpy as np\r\n"
      ],
      "execution_count": 2,
      "outputs": []
    },
    {
      "cell_type": "code",
      "metadata": {
        "colab": {
          "base_uri": "https://localhost:8080/"
        },
        "id": "Efy7zUZjb-l9",
        "outputId": "85eef6ca-85db-4131-ce54-b529fc177597"
      },
      "source": [
        "print('Hello Capstone Project Course.')"
      ],
      "execution_count": 3,
      "outputs": [
        {
          "output_type": "stream",
          "text": [
            "Hello Capstone Project Course.\n"
          ],
          "name": "stdout"
        }
      ]
    },
    {
      "cell_type": "code",
      "metadata": {
        "id": "COtJBuD7cEJs"
      },
      "source": [
        ""
      ],
      "execution_count": null,
      "outputs": []
    }
  ]
}